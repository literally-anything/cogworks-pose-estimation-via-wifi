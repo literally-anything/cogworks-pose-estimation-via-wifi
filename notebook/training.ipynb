{
 "cells": [
  {
   "cell_type": "code",
   "execution_count": null,
   "id": "initial_id",
   "metadata": {
    "collapsed": true
   },
   "outputs": [],
   "source": [
    "import numpy as np\n",
    "import matplotlib.pyplot as plt\n",
    "import torch.nn as nn\n",
    "import torch.nn.functional as F\n",
    "import torch\n",
    "\n",
    "%matplotlib notebook"
   ]
  },
  {
   "metadata": {},
   "cell_type": "code",
   "outputs": [],
   "execution_count": null,
   "source": [
    "class Model(nn.Module):\n",
    "    def __init__(self):\n",
    "        super(Model, self).__init__()    \n",
    "\n",
    "        self.conv1 = nn.Conv1d(2, 12, 25)\n",
    "        self.conv2 = nn.Conv1d(12, 24, 13)\n",
    "        self.conv3 = nn.Conv1d(24, 24, 7)\n",
    "\n",
    "        self.avgpool = nn.AvgPool1d(6)\n",
    "\n",
    "        self.fc1 = nn.Linear(24, 2)\n",
    "\n",
    "\n",
    "    def __call__(self, x):\n",
    "        \"\"\" The model's forward pass functionality.\n",
    "        \n",
    "        Parameters\n",
    "        ----------\n",
    "        x : Union[numpy.ndarray, mygrad.Tensor], shape=(N, T)\n",
    "            The batch of size-N.\n",
    "            \n",
    "        Returns\n",
    "        -------\n",
    "        mygrad.Tensor, shape=(N, 2)\n",
    "            The model's predictions for each of the N pieces of data in the batch.\n",
    "        \"\"\"\n",
    "        # CHANGE DOCSTRING\n",
    "        \n",
    "        x = F.relu(self.conv1(x))\n",
    "        x = F.relu(self.conv2(x))\n",
    "        x = F.relu(self.avgpool(self.conv3(x))) # remove activation function?\n",
    "        x = self.fc1(x.T)\n",
    "        return x"
   ],
   "id": "ca9a160dc3026b43"
  }
 ],
 "metadata": {
  "kernelspec": {
   "display_name": "Python 3",
   "language": "python",
   "name": "python3"
  },
  "language_info": {
   "codemirror_mode": {
    "name": "ipython",
    "version": 2
   },
   "file_extension": ".py",
   "mimetype": "text/x-python",
   "name": "python",
   "nbconvert_exporter": "python",
   "pygments_lexer": "ipython2",
   "version": "2.7.6"
  }
 },
 "nbformat": 4,
 "nbformat_minor": 5
}
